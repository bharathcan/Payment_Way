{
 "cells": [
  {
   "cell_type": "code",
   "execution_count": 2,
   "metadata": {},
   "outputs": [
    {
     "data": {
      "text/html": [
       "<div>\n",
       "<style scoped>\n",
       "    .dataframe tbody tr th:only-of-type {\n",
       "        vertical-align: middle;\n",
       "    }\n",
       "\n",
       "    .dataframe tbody tr th {\n",
       "        vertical-align: top;\n",
       "    }\n",
       "\n",
       "    .dataframe thead th {\n",
       "        text-align: right;\n",
       "    }\n",
       "</style>\n",
       "<table border=\"1\" class=\"dataframe\">\n",
       "  <thead>\n",
       "    <tr style=\"text-align: right;\">\n",
       "      <th></th>\n",
       "      <th>Transaction_date</th>\n",
       "      <th>Product</th>\n",
       "      <th>Price</th>\n",
       "      <th>Payment_Type</th>\n",
       "      <th>Name</th>\n",
       "      <th>City</th>\n",
       "      <th>State</th>\n",
       "      <th>Country</th>\n",
       "      <th>Account_Created</th>\n",
       "      <th>Last_Login</th>\n",
       "      <th>Latitude</th>\n",
       "      <th>Longitude</th>\n",
       "    </tr>\n",
       "  </thead>\n",
       "  <tbody>\n",
       "    <tr>\n",
       "      <th>0</th>\n",
       "      <td>01/02/2009 6:17</td>\n",
       "      <td>Product1</td>\n",
       "      <td>1200</td>\n",
       "      <td>Mastercard</td>\n",
       "      <td>carolina</td>\n",
       "      <td>Basildon</td>\n",
       "      <td>England</td>\n",
       "      <td>United Kingdom</td>\n",
       "      <td>01/02/2009 6:00</td>\n",
       "      <td>01/02/2009 6:08</td>\n",
       "      <td>51.500000</td>\n",
       "      <td>-1.116667</td>\n",
       "    </tr>\n",
       "    <tr>\n",
       "      <th>1</th>\n",
       "      <td>01/02/2009 4:53</td>\n",
       "      <td>Product1</td>\n",
       "      <td>1200</td>\n",
       "      <td>Visa</td>\n",
       "      <td>Betina</td>\n",
       "      <td>Parkville</td>\n",
       "      <td>MO</td>\n",
       "      <td>United States</td>\n",
       "      <td>01/02/2009 4:42</td>\n",
       "      <td>01/02/2009 7:49</td>\n",
       "      <td>39.195000</td>\n",
       "      <td>-94.681940</td>\n",
       "    </tr>\n",
       "    <tr>\n",
       "      <th>2</th>\n",
       "      <td>01/02/2009 13:08</td>\n",
       "      <td>Product1</td>\n",
       "      <td>1200</td>\n",
       "      <td>Mastercard</td>\n",
       "      <td>Federica e Andrea</td>\n",
       "      <td>Astoria</td>\n",
       "      <td>OR</td>\n",
       "      <td>United States</td>\n",
       "      <td>01/01/2009 16:21</td>\n",
       "      <td>01/03/2009 12:32</td>\n",
       "      <td>46.188060</td>\n",
       "      <td>-123.830000</td>\n",
       "    </tr>\n",
       "    <tr>\n",
       "      <th>3</th>\n",
       "      <td>01/03/2009 14:44</td>\n",
       "      <td>Product1</td>\n",
       "      <td>1200</td>\n",
       "      <td>Visa</td>\n",
       "      <td>Gouya</td>\n",
       "      <td>Echuca</td>\n",
       "      <td>Victoria</td>\n",
       "      <td>Australia</td>\n",
       "      <td>09/25/2005 21:13</td>\n",
       "      <td>01/03/2009 14:22</td>\n",
       "      <td>-36.133333</td>\n",
       "      <td>144.750000</td>\n",
       "    </tr>\n",
       "    <tr>\n",
       "      <th>4</th>\n",
       "      <td>01/04/2009 12:56</td>\n",
       "      <td>Product2</td>\n",
       "      <td>3600</td>\n",
       "      <td>Visa</td>\n",
       "      <td>Gerd W</td>\n",
       "      <td>Cahaba Heights</td>\n",
       "      <td>AL</td>\n",
       "      <td>United States</td>\n",
       "      <td>11/15/2008 15:47</td>\n",
       "      <td>01/04/2009 12:45</td>\n",
       "      <td>33.520560</td>\n",
       "      <td>-86.802500</td>\n",
       "    </tr>\n",
       "  </tbody>\n",
       "</table>\n",
       "</div>"
      ],
      "text/plain": [
       "   Transaction_date   Product Price Payment_Type               Name  \\\n",
       "0   01/02/2009 6:17  Product1  1200   Mastercard           carolina   \n",
       "1   01/02/2009 4:53  Product1  1200         Visa             Betina   \n",
       "2  01/02/2009 13:08  Product1  1200   Mastercard  Federica e Andrea   \n",
       "3  01/03/2009 14:44  Product1  1200         Visa              Gouya   \n",
       "4  01/04/2009 12:56  Product2  3600         Visa            Gerd W    \n",
       "\n",
       "                           City     State         Country   Account_Created  \\\n",
       "0                      Basildon   England  United Kingdom   01/02/2009 6:00   \n",
       "1  Parkville                           MO   United States   01/02/2009 4:42   \n",
       "2  Astoria                             OR   United States  01/01/2009 16:21   \n",
       "3                        Echuca  Victoria       Australia  09/25/2005 21:13   \n",
       "4  Cahaba Heights                      AL   United States  11/15/2008 15:47   \n",
       "\n",
       "         Last_Login   Latitude   Longitude  \n",
       "0   01/02/2009 6:08  51.500000   -1.116667  \n",
       "1   01/02/2009 7:49  39.195000  -94.681940  \n",
       "2  01/03/2009 12:32  46.188060 -123.830000  \n",
       "3  01/03/2009 14:22 -36.133333  144.750000  \n",
       "4  01/04/2009 12:45  33.520560  -86.802500  "
      ]
     },
     "execution_count": 2,
     "metadata": {},
     "output_type": "execute_result"
    }
   ],
   "source": [
    "import pandas as pd\n",
    "df=pd.read_csv(\"dataset.csv\")\n",
    "df.head()"
   ]
  },
  {
   "cell_type": "code",
   "execution_count": 3,
   "metadata": {},
   "outputs": [],
   "source": [
    "## Removing space from City column\n",
    "df['Name']=df['Name'].str.capitalize()\n",
    "df['City']=df['City'].map(lambda x: x.rstrip(' ') )\n",
    "df['City']=df['City'].map(lambda x: x.lstrip(''))"
   ]
  },
  {
   "cell_type": "code",
   "execution_count": 4,
   "metadata": {},
   "outputs": [
    {
     "name": "stdout",
     "output_type": "stream",
     "text": [
      "Object `sold` not found.\n",
      "Product1     847\n",
      "Product2     136\n",
      "Product3      14\n",
      "Product3       1\n",
      "Name: Product, dtype: int64\n"
     ]
    }
   ],
   "source": [
    " Which product was most sold?\n",
    "print(df['Product'].value_counts())"
   ]
  },
  {
   "cell_type": "code",
   "execution_count": 5,
   "metadata": {},
   "outputs": [
    {
     "name": "stdout",
     "output_type": "stream",
     "text": [
      "Object `products` not found.\n",
      "\n",
      "The payment modes used for purchasing products:\n",
      "Mastercard\n",
      "Visa\n",
      "Diners\n",
      "Amex\n",
      "\n",
      "\n"
     ]
    }
   ],
   "source": [
    "What payment modes were used for purchasing products?\n",
    "payment_method = df['Payment_Type'].unique()\n",
    "print('\\nThe payment modes used for purchasing products:')\n",
    "for i in range(len(payment_method)):\n",
    "    print(payment_method[i])\n",
    "print('\\n')"
   ]
  },
  {
   "cell_type": "code",
   "execution_count": 6,
   "metadata": {},
   "outputs": [
    {
     "name": "stdout",
     "output_type": "stream",
     "text": [
      "Object `States` not found.\n",
      "Country        Payment_Type\n",
      "United States  Visa            226\n",
      "               Mastercard      131\n",
      "               Amex             72\n",
      "               Diners           34\n",
      "Name: Payment_Type, dtype: int64\n"
     ]
    }
   ],
   "source": [
    "What is the most common payment method for the United States?\n",
    "print(df.groupby('Country')['Payment_Type'].value_counts().tail(4))\n"
   ]
  },
  {
   "cell_type": "code",
   "execution_count": 7,
   "metadata": {},
   "outputs": [
    {
     "name": "stdout",
     "output_type": "stream",
     "text": [
      "Object `occurred` not found.\n",
      "54    2009-01-01 01:26:00\n",
      "127   2009-01-02 00:50:00\n",
      "230   2009-01-03 06:41:00\n",
      "15    2009-01-04 01:05:00\n",
      "60    2009-01-05 00:31:00\n",
      "51    2009-01-06 01:20:00\n",
      "64    2009-01-07 00:12:00\n",
      "402   2009-01-08 00:04:00\n",
      "306   2009-01-09 01:12:00\n",
      "702   2009-01-10 00:04:00\n",
      "900   2009-01-11 00:15:00\n",
      "650   2009-01-12 00:17:00\n",
      "513   2009-01-13 01:46:00\n",
      "774   2009-01-14 00:03:00\n",
      "257   2009-01-15 01:41:00\n",
      "235   2009-01-16 01:07:00\n",
      "146   2009-01-17 01:23:00\n",
      "685   2009-01-18 00:41:00\n",
      "746   2009-01-19 01:52:00\n",
      "850   2009-01-20 02:17:00\n",
      "880   2009-01-21 02:07:00\n",
      "777   2009-01-22 02:16:00\n",
      "242   2009-01-23 03:30:00\n",
      "834   2009-01-24 01:22:00\n",
      "265   2009-01-25 00:09:00\n",
      "903   2009-01-26 01:14:00\n",
      "313   2009-01-27 02:26:00\n",
      "708   2009-01-28 00:22:00\n",
      "733   2009-01-29 01:01:00\n",
      "861   2009-01-30 01:09:00\n",
      "823   2009-01-31 01:59:00\n",
      "Name: Transaction_date, dtype: datetime64[ns]\n"
     ]
    }
   ],
   "source": [
    "What was the earliest time of the day a transaction occurred?\n",
    "df['Transaction_date'] = pd.to_datetime(df['Transaction_date'])\n",
    "sorted_date = df.sort_values('Transaction_date')\n",
    "earliest_time = sorted_date[~sorted_date['Transaction_date'].dt.date.duplicated()]\n",
    "print(earliest_time['Transaction_date'])\n"
   ]
  },
  {
   "cell_type": "code",
   "execution_count": null,
   "metadata": {},
   "outputs": [],
   "source": []
  }
 ],
 "metadata": {
  "kernelspec": {
   "display_name": "Python 3",
   "language": "python",
   "name": "python3"
  },
  "language_info": {
   "codemirror_mode": {
    "name": "ipython",
    "version": 3
   },
   "file_extension": ".py",
   "mimetype": "text/x-python",
   "name": "python",
   "nbconvert_exporter": "python",
   "pygments_lexer": "ipython3",
   "version": "3.7.3"
  }
 },
 "nbformat": 4,
 "nbformat_minor": 2
}
